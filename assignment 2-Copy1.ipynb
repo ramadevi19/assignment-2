{
 "cells": [
  {
   "cell_type": "code",
   "execution_count": null,
   "metadata": {},
   "outputs": [],
   "source": [
    "A=[]\n",
    "for i in range (1,5):\n",
    "     for j in range (1,5):\n",
    "        A.append(i+2*j) \n",
    "        print('i=',i,'j=',j,'A=',A)\n",
    "print(A)    "
   ]
  },
  {
   "cell_type": "code",
   "execution_count": null,
   "metadata": {},
   "outputs": [],
   "source": [
    "D=[]\n",
    "for i in range (2,3):\n",
    "      for j in range (2,3):\n",
    "         D.append(i+1*j)\n",
    "print(D)"
   ]
  },
  {
   "cell_type": "code",
   "execution_count": null,
   "metadata": {},
   "outputs": [],
   "source": [
    "L=[]\n",
    "for i in range (1,5):\n",
    "    for j in range (1,5):\n",
    "        L.append(2*i+j)\n",
    "        print('i=',i,'j=',j,'L=',L)\n",
    "print(L)"
   ]
  },
  {
   "cell_type": "code",
   "execution_count": null,
   "metadata": {},
   "outputs": [],
   "source": [
    "P=[]\n",
    "for i in range(1,5):\n",
    "    for j in range(1,5):\n",
    "        P.append(i+j)\n",
    "        print(P)"
   ]
  },
  {
   "cell_type": "code",
   "execution_count": null,
   "metadata": {},
   "outputs": [],
   "source": [
    "import random as rn\n",
    "d=['A','T','G','C']\n",
    "\n",
    "d=[rn.choice(d)for i in range(10000)]\n",
    "DNA=''.join(d)\n"
   ]
  },
  {
   "cell_type": "code",
   "execution_count": null,
   "metadata": {},
   "outputs": [],
   "source": [
    "## Counting individual characters in DNA"
   ]
  },
  {
   "cell_type": "code",
   "execution_count": null,
   "metadata": {},
   "outputs": [],
   "source": [
    "count = {i: DNA.count(i) for i in d}\n",
    "print(count)"
   ]
  },
  {
   "cell_type": "code",
   "execution_count": null,
   "metadata": {},
   "outputs": [],
   "source": [
    "#### Counting combination of two characters in DNA"
   ]
  },
  {
   "cell_type": "code",
   "execution_count": null,
   "metadata": {},
   "outputs": [],
   "source": [
    "import random as rn\n",
    "\n",
    "d=['A','T','G','C']\n",
    "d=[rn.choice(d) for i in range(10000)]\n",
    "DNA=''.join(d)\n",
    "\n",
    "from itertools import combinations\n",
    "comb = list(combinations(d,2))\n",
    "join = [''.join(tups) for tups in comb]\n",
    "count = {i: DNA.count(i) for i in join}\n",
    "print(count)\n",
    "\n"
   ]
  },
  {
   "cell_type": "code",
   "execution_count": null,
   "metadata": {},
   "outputs": [],
   "source": [
    "from itertools import combinations\n",
    "comb = list(combinations(d,3))\n",
    "join = [''.join(tups) for tups in comb]\n",
    "count = {i: DNA.count(i)for i in join}\n",
    "print(count)\n",
    "\n"
   ]
  }
 ],
 "metadata": {
  "kernelspec": {
   "display_name": "Python 3",
   "language": "python",
   "name": "python3"
  },
  "language_info": {
   "codemirror_mode": {
    "name": "ipython",
    "version": 3
   },
   "file_extension": ".py",
   "mimetype": "text/x-python",
   "name": "python",
   "nbconvert_exporter": "python",
   "pygments_lexer": "ipython3",
   "version": "3.7.6"
  }
 },
 "nbformat": 4,
 "nbformat_minor": 4
}
